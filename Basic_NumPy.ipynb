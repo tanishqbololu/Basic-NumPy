{
 "cells": [
  {
   "cell_type": "markdown",
   "id": "bf01425b-ce84-4544-b546-f3ac5b3a310e",
   "metadata": {},
   "source": [
    "# Numpy\n",
    "1. It is a Python library that provides a multidimensional array object.\n",
    "2. At the core of the NumPy package, is the ndarray object.\n",
    "3. This encapsulates n-dimensional arrays of homogeneous data types"
   ]
  },
  {
   "cell_type": "code",
   "execution_count": 4,
   "id": "31b24dec-a3c4-416d-a25b-7e6748a56a8c",
   "metadata": {},
   "outputs": [],
   "source": [
    "import numpy as np"
   ]
  },
  {
   "cell_type": "code",
   "execution_count": 5,
   "id": "1c99e461-9cd4-4908-9bd2-2a979f57260d",
   "metadata": {},
   "outputs": [
    {
     "data": {
      "text/plain": [
       "'1.26.4'"
      ]
     },
     "execution_count": 5,
     "metadata": {},
     "output_type": "execute_result"
    }
   ],
   "source": [
    "np.__version__"
   ]
  },
  {
   "cell_type": "markdown",
   "id": "a2e26829-1e93-458c-8c6f-91cd43b9002d",
   "metadata": {},
   "source": [
    "## Creating Numpy array\n",
    "1. First we create list\n",
    "2. We make this list to array by np.array(list)"
   ]
  },
  {
   "cell_type": "code",
   "execution_count": 7,
   "id": "3deec7cc-0ded-402d-a91a-922d4d0b8ff8",
   "metadata": {},
   "outputs": [
    {
     "data": {
      "text/plain": [
       "[0, 1, 2, 3, 4, 5]"
      ]
     },
     "execution_count": 7,
     "metadata": {},
     "output_type": "execute_result"
    }
   ],
   "source": [
    "my_list = [0,1,2,3,4,5]\n",
    "my_list"
   ]
  },
  {
   "cell_type": "code",
   "execution_count": 8,
   "id": "fda06a0e-9dea-41b0-89fb-c37fa577e11e",
   "metadata": {},
   "outputs": [
    {
     "data": {
      "text/plain": [
       "list"
      ]
     },
     "execution_count": 8,
     "metadata": {},
     "output_type": "execute_result"
    }
   ],
   "source": [
    "type(my_list)"
   ]
  },
  {
   "cell_type": "code",
   "execution_count": 9,
   "id": "da96ea93-e5d0-47f5-ab43-b85a9147c7ae",
   "metadata": {},
   "outputs": [],
   "source": [
    "arr = np.array(my_list)    #list we are making array here by NumPy"
   ]
  },
  {
   "cell_type": "code",
   "execution_count": 10,
   "id": "4d3c610b-6316-4c47-bedf-7c11b46e4d4b",
   "metadata": {},
   "outputs": [
    {
     "data": {
      "text/plain": [
       "array([0, 1, 2, 3, 4, 5])"
      ]
     },
     "execution_count": 10,
     "metadata": {},
     "output_type": "execute_result"
    }
   ],
   "source": [
    "arr"
   ]
  },
  {
   "cell_type": "code",
   "execution_count": 11,
   "id": "1e80bee0-b92b-43cb-b96c-db6f5665cb71",
   "metadata": {},
   "outputs": [
    {
     "data": {
      "text/plain": [
       "numpy.ndarray"
      ]
     },
     "execution_count": 11,
     "metadata": {},
     "output_type": "execute_result"
    }
   ],
   "source": [
    "type(arr)"
   ]
  },
  {
   "cell_type": "code",
   "execution_count": 12,
   "id": "e80ac251-1c49-4221-8f7d-4289907ed248",
   "metadata": {},
   "outputs": [],
   "source": [
    "#nd --> n dimension"
   ]
  },
  {
   "cell_type": "markdown",
   "id": "5f96fa60-655a-4396-bcf0-3c063f341dab",
   "metadata": {},
   "source": [
    "## Arange\n",
    "Return evenly spaced values within a given interval.\n",
    "\n",
    "arange ( [start,] stop [, step,], dtype = None, *, like=None)"
   ]
  },
  {
   "cell_type": "code",
   "execution_count": 14,
   "id": "b106cb2d-e34c-4221-ac0e-94db735c05dd",
   "metadata": {},
   "outputs": [
    {
     "data": {
      "text/plain": [
       "array([ 0,  1,  2,  3,  4,  5,  6,  7,  8,  9, 10, 11, 12, 13, 14])"
      ]
     },
     "execution_count": 14,
     "metadata": {},
     "output_type": "execute_result"
    }
   ],
   "source": [
    "np.arange(15)"
   ]
  },
  {
   "cell_type": "code",
   "execution_count": 15,
   "id": "b85a03af-dcf5-4c11-8e71-701f54165422",
   "metadata": {},
   "outputs": [
    {
     "data": {
      "text/plain": [
       "array([0, 1, 2, 3, 4, 5, 6, 7, 8, 9])"
      ]
     },
     "execution_count": 15,
     "metadata": {},
     "output_type": "execute_result"
    }
   ],
   "source": [
    "np.arange(0,10)"
   ]
  },
  {
   "cell_type": "code",
   "execution_count": 16,
   "id": "38ad7b95-e93a-484a-9464-2d9f60c07f70",
   "metadata": {},
   "outputs": [
    {
     "data": {
      "text/plain": [
       "array([ 0,  4,  8, 12, 16])"
      ]
     },
     "execution_count": 16,
     "metadata": {},
     "output_type": "execute_result"
    }
   ],
   "source": [
    "np.arange(0,20,4)  #start value, stop value, step value"
   ]
  },
  {
   "cell_type": "code",
   "execution_count": 17,
   "id": "38639a79-4888-48fa-b437-3492b932fb52",
   "metadata": {},
   "outputs": [],
   "source": [
    "# end element will be (n-1)"
   ]
  },
  {
   "cell_type": "markdown",
   "id": "e3282608-1289-4e62-a3a4-e407e1aad2ab",
   "metadata": {},
   "source": [
    "#### 1st arg always be < then 2nd arg"
   ]
  },
  {
   "cell_type": "code",
   "execution_count": 19,
   "id": "3bb562cb-78bf-41ad-9364-886af27d9fc8",
   "metadata": {},
   "outputs": [
    {
     "data": {
      "text/plain": [
       "array([], dtype=int32)"
      ]
     },
     "execution_count": 19,
     "metadata": {},
     "output_type": "execute_result"
    }
   ],
   "source": [
    "np.arange(30,20)   "
   ]
  },
  {
   "cell_type": "markdown",
   "id": "9850194e-b2c5-47d3-958b-7534c20bc09a",
   "metadata": {},
   "source": [
    "# "
   ]
  },
  {
   "cell_type": "markdown",
   "id": "b24ce471-6dfb-43ef-80e4-38acc5f22df0",
   "metadata": {},
   "source": [
    "#### Parameter Tunning --> means using default setting/parameters"
   ]
  },
  {
   "cell_type": "code",
   "execution_count": 22,
   "id": "2506c13b-76ac-42d5-a43f-44803db9d111",
   "metadata": {},
   "outputs": [
    {
     "data": {
      "text/plain": [
       "array([0., 0., 0., 0., 0.])"
      ]
     },
     "execution_count": 22,
     "metadata": {},
     "output_type": "execute_result"
    }
   ],
   "source": [
    "np.zeros(5) # parameter tunning"
   ]
  },
  {
   "cell_type": "markdown",
   "id": "8e5e6c26-dc31-4f68-8d7a-2fe0dffd4a22",
   "metadata": {},
   "source": [
    "###### "
   ]
  },
  {
   "cell_type": "markdown",
   "id": "ca6537da-308b-4565-a561-4a4125edcc73",
   "metadata": {},
   "source": [
    "#### Hyper-parameter Tunning --> means using modified settings/parameters"
   ]
  },
  {
   "cell_type": "code",
   "execution_count": 25,
   "id": "c0b09591-84e1-46e5-8d54-e7f77022b8c3",
   "metadata": {},
   "outputs": [
    {
     "data": {
      "text/plain": [
       "array([0, 0, 0, 0, 0])"
      ]
     },
     "execution_count": 25,
     "metadata": {},
     "output_type": "execute_result"
    }
   ],
   "source": [
    "np.zeros(5, dtype=int) # hyper-parameter tunning"
   ]
  },
  {
   "cell_type": "markdown",
   "id": "a0899d71-4f13-4f95-ba85-197c807acbdb",
   "metadata": {},
   "source": [
    "###### "
   ]
  },
  {
   "cell_type": "code",
   "execution_count": 27,
   "id": "b38a8090-ab01-4c51-a27a-f818f059ecaf",
   "metadata": {},
   "outputs": [
    {
     "data": {
      "text/plain": [
       "array([[0, 0, 0, 0, 0, 0, 0, 0, 0, 0],\n",
       "       [0, 0, 0, 0, 0, 0, 0, 0, 0, 0]])"
      ]
     },
     "execution_count": 27,
     "metadata": {},
     "output_type": "execute_result"
    }
   ],
   "source": [
    "np.zeros((2,10), dtype=int)  # 2 rows & 10 columns"
   ]
  },
  {
   "cell_type": "code",
   "execution_count": 28,
   "id": "fa299077-e45d-41db-bc09-bf24014fcb40",
   "metadata": {},
   "outputs": [
    {
     "data": {
      "text/plain": [
       "array([[[0, 0, 0, 0, 0],\n",
       "        [0, 0, 0, 0, 0],\n",
       "        [0, 0, 0, 0, 0],\n",
       "        [0, 0, 0, 0, 0],\n",
       "        [0, 0, 0, 0, 0],\n",
       "        [0, 0, 0, 0, 0],\n",
       "        [0, 0, 0, 0, 0],\n",
       "        [0, 0, 0, 0, 0],\n",
       "        [0, 0, 0, 0, 0],\n",
       "        [0, 0, 0, 0, 0]],\n",
       "\n",
       "       [[0, 0, 0, 0, 0],\n",
       "        [0, 0, 0, 0, 0],\n",
       "        [0, 0, 0, 0, 0],\n",
       "        [0, 0, 0, 0, 0],\n",
       "        [0, 0, 0, 0, 0],\n",
       "        [0, 0, 0, 0, 0],\n",
       "        [0, 0, 0, 0, 0],\n",
       "        [0, 0, 0, 0, 0],\n",
       "        [0, 0, 0, 0, 0],\n",
       "        [0, 0, 0, 0, 0]]])"
      ]
     },
     "execution_count": 28,
     "metadata": {},
     "output_type": "execute_result"
    }
   ],
   "source": [
    "np.zeros((2,10,5), dtype=int)   #(depth, rows , columns), (z,x,y)"
   ]
  },
  {
   "cell_type": "code",
   "execution_count": 29,
   "id": "b3a9c7dd-0e7d-4f52-a72f-07ca5727186a",
   "metadata": {},
   "outputs": [
    {
     "name": "stdout",
     "output_type": "stream",
     "text": [
      "[[0. 0. 0. 0. 0. 0. 0. 0. 0. 0.]\n",
      " [0. 0. 0. 0. 0. 0. 0. 0. 0. 0.]\n",
      " [0. 0. 0. 0. 0. 0. 0. 0. 0. 0.]\n",
      " [0. 0. 0. 0. 0. 0. 0. 0. 0. 0.]\n",
      " [0. 0. 0. 0. 0. 0. 0. 0. 0. 0.]]\n"
     ]
    }
   ],
   "source": [
    "a = (5,10)\n",
    "b= (2,5)\n",
    "print(np.zeros(a))"
   ]
  },
  {
   "cell_type": "code",
   "execution_count": 30,
   "id": "ac54d693-6b79-4820-aae5-03f66cd071f4",
   "metadata": {},
   "outputs": [
    {
     "name": "stdout",
     "output_type": "stream",
     "text": [
      "[[0. 0. 0. 0. 0.]\n",
      " [0. 0. 0. 0. 0.]]\n"
     ]
    }
   ],
   "source": [
    "print(np.zeros(b))"
   ]
  },
  {
   "cell_type": "markdown",
   "id": "de5c73e2-983b-43ca-96d2-f3a5f795cf0d",
   "metadata": {},
   "source": [
    "###### "
   ]
  },
  {
   "cell_type": "code",
   "execution_count": 32,
   "id": "437baa78-65b5-427e-bec0-84d448a511e9",
   "metadata": {},
   "outputs": [
    {
     "data": {
      "text/plain": [
       "array([1, 1, 1, 1])"
      ]
     },
     "execution_count": 32,
     "metadata": {},
     "output_type": "execute_result"
    }
   ],
   "source": [
    "np.ones(4, dtype=int)"
   ]
  },
  {
   "cell_type": "code",
   "execution_count": 33,
   "id": "1ade10e2-e445-4eb9-819c-c6acfcdb4f93",
   "metadata": {},
   "outputs": [
    {
     "data": {
      "text/plain": [
       "array([[1., 1., 1., 1., 1., 1., 1., 1., 1., 1.],\n",
       "       [1., 1., 1., 1., 1., 1., 1., 1., 1., 1.],\n",
       "       [1., 1., 1., 1., 1., 1., 1., 1., 1., 1.],\n",
       "       [1., 1., 1., 1., 1., 1., 1., 1., 1., 1.],\n",
       "       [1., 1., 1., 1., 1., 1., 1., 1., 1., 1.]])"
      ]
     },
     "execution_count": 33,
     "metadata": {},
     "output_type": "execute_result"
    }
   ],
   "source": [
    "np.ones(a)"
   ]
  },
  {
   "cell_type": "code",
   "execution_count": 34,
   "id": "3c97e427-4161-4dc4-a4f9-4c3d736efe96",
   "metadata": {},
   "outputs": [
    {
     "ename": "AttributeError",
     "evalue": "module 'numpy' has no attribute 'twos'",
     "output_type": "error",
     "traceback": [
      "\u001b[1;31m---------------------------------------------------------------------------\u001b[0m",
      "\u001b[1;31mAttributeError\u001b[0m                            Traceback (most recent call last)",
      "Cell \u001b[1;32mIn[34], line 1\u001b[0m\n\u001b[1;32m----> 1\u001b[0m np\u001b[38;5;241m.\u001b[39mtwos((\u001b[38;5;241m2\u001b[39m,\u001b[38;5;241m3\u001b[39m))\n",
      "File \u001b[1;32m~\\anaconda3\\Lib\\site-packages\\numpy\\__init__.py:333\u001b[0m, in \u001b[0;36m__getattr__\u001b[1;34m(attr)\u001b[0m\n\u001b[0;32m    330\u001b[0m     \u001b[38;5;124m\"\u001b[39m\u001b[38;5;124mRemoved in NumPy 1.25.0\u001b[39m\u001b[38;5;124m\"\u001b[39m\n\u001b[0;32m    331\u001b[0m     \u001b[38;5;28;01mraise\u001b[39;00m \u001b[38;5;167;01mRuntimeError\u001b[39;00m(\u001b[38;5;124m\"\u001b[39m\u001b[38;5;124mTester was removed in NumPy 1.25.\u001b[39m\u001b[38;5;124m\"\u001b[39m)\n\u001b[1;32m--> 333\u001b[0m \u001b[38;5;28;01mraise\u001b[39;00m \u001b[38;5;167;01mAttributeError\u001b[39;00m(\u001b[38;5;124m\"\u001b[39m\u001b[38;5;124mmodule \u001b[39m\u001b[38;5;132;01m{!r}\u001b[39;00m\u001b[38;5;124m has no attribute \u001b[39m\u001b[38;5;124m\"\u001b[39m\n\u001b[0;32m    334\u001b[0m                      \u001b[38;5;124m\"\u001b[39m\u001b[38;5;132;01m{!r}\u001b[39;00m\u001b[38;5;124m\"\u001b[39m\u001b[38;5;241m.\u001b[39mformat(\u001b[38;5;18m__name__\u001b[39m, attr))\n",
      "\u001b[1;31mAttributeError\u001b[0m: module 'numpy' has no attribute 'twos'"
     ]
    }
   ],
   "source": [
    "np.twos((2,3))"
   ]
  },
  {
   "cell_type": "markdown",
   "id": "a211daf2-50cd-4587-b85c-e23367ad98bf",
   "metadata": {},
   "source": [
    "#### Only np.ones & np.zeros is allowed "
   ]
  },
  {
   "cell_type": "markdown",
   "id": "b555ebea-e16d-41c5-8df8-b9bbbd045a90",
   "metadata": {},
   "source": [
    "###### "
   ]
  },
  {
   "cell_type": "markdown",
   "id": "28bdb951-1368-4632-8acf-dc6ab70b60c3",
   "metadata": {},
   "source": [
    "## Range\n",
    "Return an object that produces a sequence of integers from start (inclusive)\r\n",
    "to stop (exclusive) by step."
   ]
  },
  {
   "cell_type": "code",
   "execution_count": null,
   "id": "e69b90b2-0d7e-49f7-98cf-e908b961df81",
   "metadata": {},
   "outputs": [],
   "source": [
    "r = range(5)"
   ]
  },
  {
   "cell_type": "code",
   "execution_count": null,
   "id": "199921ca-7c3f-49d2-b666-95223191b09f",
   "metadata": {},
   "outputs": [],
   "source": [
    "r"
   ]
  },
  {
   "cell_type": "code",
   "execution_count": null,
   "id": "14f8e85a-b851-4dfb-b7bb-2756cc6b66d5",
   "metadata": {},
   "outputs": [],
   "source": [
    "for i in r:\n",
    "    print(i)"
   ]
  },
  {
   "cell_type": "code",
   "execution_count": null,
   "id": "87cdc6a1-d56f-4fc8-bafd-ae75221c0410",
   "metadata": {},
   "outputs": [],
   "source": [
    "R = range(0,20,2)\n",
    "R"
   ]
  },
  {
   "cell_type": "code",
   "execution_count": null,
   "id": "f200f786-e1a4-479c-8799-58e5eb1832c8",
   "metadata": {},
   "outputs": [],
   "source": [
    "for i in R:\n",
    "    print(i)"
   ]
  },
  {
   "cell_type": "code",
   "execution_count": null,
   "id": "cad1f8ae-21b3-48ab-8ebe-9be9304e05aa",
   "metadata": {},
   "outputs": [],
   "source": [
    "list(range(0,10))"
   ]
  },
  {
   "cell_type": "markdown",
   "id": "ed561317-6cc1-499c-af6c-221dd2bcc345",
   "metadata": {},
   "source": [
    "###### "
   ]
  },
  {
   "cell_type": "code",
   "execution_count": null,
   "id": "0c73c6cc-1af2-4e8e-b93a-2ff5bc541caf",
   "metadata": {},
   "outputs": [],
   "source": [
    "np.arange(12)"
   ]
  },
  {
   "cell_type": "markdown",
   "id": "6118a867-f97c-4804-92fe-c4be4f2da287",
   "metadata": {},
   "source": [
    "### \"arange\" is NumPy function whereas \"range\" is python function"
   ]
  },
  {
   "cell_type": "markdown",
   "id": "29e71426-8a1c-48e8-a220-b1b956168bb4",
   "metadata": {},
   "source": [
    "###### "
   ]
  },
  {
   "cell_type": "markdown",
   "id": "cc2a921f-761b-44e5-9afc-8acb159859e8",
   "metadata": {},
   "source": [
    "# Random Function : rand( )\n",
    "Gives random number from given range"
   ]
  },
  {
   "cell_type": "code",
   "execution_count": null,
   "id": "5f2b0ab2-05f9-4823-a1c3-db4c258208f1",
   "metadata": {},
   "outputs": [],
   "source": [
    "rand(3,2)"
   ]
  },
  {
   "cell_type": "code",
   "execution_count": null,
   "id": "bb1244a4-979d-4424-8f87-e36c6f0236c6",
   "metadata": {},
   "outputs": [],
   "source": [
    "random.rand(3,2)"
   ]
  },
  {
   "cell_type": "code",
   "execution_count": null,
   "id": "01c0431c-8731-4203-b3f6-0d282202dc64",
   "metadata": {},
   "outputs": [],
   "source": [
    " # np--package, random--module, rand--function"
   ]
  },
  {
   "cell_type": "code",
   "execution_count": null,
   "id": "eec37067-11d7-4b15-82a0-fcbc6f661733",
   "metadata": {},
   "outputs": [],
   "source": [
    "np.random.rand(4,6) # 4 rows, 6 columns ,,,,, Creates 4 arrays with 6 values in each array"
   ]
  },
  {
   "cell_type": "markdown",
   "id": "88b06b49-695a-4bc2-891f-a062accf5a3e",
   "metadata": {},
   "source": [
    "#### np.random.rand(x,y)-- Gives x arrays with y random values in each "
   ]
  },
  {
   "cell_type": "markdown",
   "id": "075c07bd-9751-4296-b069-affe6a8c639b",
   "metadata": {},
   "source": [
    "###### "
   ]
  },
  {
   "cell_type": "code",
   "execution_count": null,
   "id": "417ef083-fc30-4c9c-8ed7-57db1bb7c591",
   "metadata": {},
   "outputs": [],
   "source": [
    "np.random.randint(3,6)  # gives random value from given range"
   ]
  },
  {
   "cell_type": "markdown",
   "id": "1ea9dec6-d690-4ebf-b2b3-5dfc2b9c7d08",
   "metadata": {},
   "source": [
    "#### np.random.randint(x,y)-- Gives a random integer between x & y"
   ]
  },
  {
   "cell_type": "markdown",
   "id": "21930630-a5a2-468c-aebb-8232341d21d6",
   "metadata": {},
   "source": [
    "###### "
   ]
  },
  {
   "cell_type": "code",
   "execution_count": null,
   "id": "8ce3d0c3-7ea1-4b7c-a1b8-17b208e57f8d",
   "metadata": {},
   "outputs": [],
   "source": [
    "np.random.rand(2,4)"
   ]
  },
  {
   "cell_type": "code",
   "execution_count": null,
   "id": "9474488f-2988-426b-84e9-ad0aa1fad1cc",
   "metadata": {},
   "outputs": [],
   "source": [
    "np.random.randint(2,4)"
   ]
  },
  {
   "cell_type": "code",
   "execution_count": null,
   "id": "a97a6551-72b2-45e8-b553-6ad95be592bc",
   "metadata": {},
   "outputs": [],
   "source": [
    "np.random.randint(10,20,3) #(start value, last value, no. of int)"
   ]
  },
  {
   "cell_type": "markdown",
   "id": "94cee08f-4163-4549-81e7-086ba649eca7",
   "metadata": {},
   "source": [
    "###### "
   ]
  },
  {
   "cell_type": "markdown",
   "id": "2965e7c0-d7b4-4b6a-a51a-8f8a8c95a708",
   "metadata": {},
   "source": [
    "### Generate random values in matrix"
   ]
  },
  {
   "cell_type": "code",
   "execution_count": null,
   "id": "09198b9b-fca5-4edf-9636-dfd179aa7a91",
   "metadata": {},
   "outputs": [],
   "source": [
    "a = np.random.randint(10,40,(5,3,8))\n",
    "# (first, last, (depth or n, rows, columns))\n",
    "a"
   ]
  },
  {
   "cell_type": "markdown",
   "id": "372fce4f-3111-49b8-9a48-f304c50c3948",
   "metadata": {},
   "source": [
    "# "
   ]
  },
  {
   "cell_type": "code",
   "execution_count": 46,
   "id": "2f918531-817b-4364-8a65-2d8c941f13fe",
   "metadata": {},
   "outputs": [
    {
     "data": {
      "text/plain": [
       "array([[4, 0, 7, 6, 3, 0, 0, 9, 0, 7, 2],\n",
       "       [3, 5, 1, 9, 0, 3, 2, 7, 7, 9, 3],\n",
       "       [0, 6, 1, 6, 6, 4, 6, 1, 4, 8, 6],\n",
       "       [9, 8, 0, 0, 0, 5, 2, 5, 5, 8, 8],\n",
       "       [5, 9, 4, 5, 2, 9, 7, 9, 4, 2, 1],\n",
       "       [6, 6, 0, 4, 0, 1, 7, 4, 0, 0, 6],\n",
       "       [5, 9, 7, 0, 3, 4, 4, 4, 0, 8, 2],\n",
       "       [1, 3, 5, 5, 3, 4, 0, 8, 0, 8, 0],\n",
       "       [7, 8, 7, 8, 0, 6, 4, 0, 0, 5, 6],\n",
       "       [1, 1, 6, 2, 5, 7, 9, 6, 7, 0, 9],\n",
       "       [7, 3, 6, 5, 7, 1, 3, 4, 9, 9, 1],\n",
       "       [1, 1, 1, 5, 8, 2, 0, 5, 9, 0, 2],\n",
       "       [1, 6, 9, 9, 6, 9, 1, 2, 7, 8, 5],\n",
       "       [4, 8, 5, 5, 5, 3, 2, 9, 7, 7, 1],\n",
       "       [0, 5, 5, 5, 9, 6, 8, 4, 1, 7, 1]])"
      ]
     },
     "execution_count": 46,
     "metadata": {},
     "output_type": "execute_result"
    }
   ],
   "source": [
    "b = np.random.randint(0,10,(15,11))\n",
    "b"
   ]
  },
  {
   "cell_type": "code",
   "execution_count": null,
   "id": "5c2ebffc-e547-4dde-9059-a30d877d83ec",
   "metadata": {},
   "outputs": [],
   "source": [
    "b[1:5]   # Rows Slicing"
   ]
  },
  {
   "cell_type": "code",
   "execution_count": null,
   "id": "b55187d8-061e-4dee-8fff-93a61a747c8d",
   "metadata": {},
   "outputs": [],
   "source": [
    "b[1,5]"
   ]
  },
  {
   "cell_type": "code",
   "execution_count": null,
   "id": "483ca47b-02f9-4ea2-ab54-cf7acadc42cc",
   "metadata": {},
   "outputs": [],
   "source": [
    "b[-1]"
   ]
  },
  {
   "cell_type": "code",
   "execution_count": null,
   "id": "2b7497e5-19ce-4cd6-be40-6ebec5c3c9dc",
   "metadata": {},
   "outputs": [],
   "source": [
    "b[-1,-4]"
   ]
  },
  {
   "cell_type": "code",
   "execution_count": 50,
   "id": "0f82eea8-30fb-40e8-b5ed-a2de5541bcaf",
   "metadata": {},
   "outputs": [
    {
     "data": {
      "text/plain": [
       "array([[0, 5, 5, 5, 9, 6, 8, 4, 1, 7, 1],\n",
       "       [4, 8, 5, 5, 5, 3, 2, 9, 7, 7, 1],\n",
       "       [1, 6, 9, 9, 6, 9, 1, 2, 7, 8, 5],\n",
       "       [1, 1, 1, 5, 8, 2, 0, 5, 9, 0, 2],\n",
       "       [7, 3, 6, 5, 7, 1, 3, 4, 9, 9, 1],\n",
       "       [1, 1, 6, 2, 5, 7, 9, 6, 7, 0, 9],\n",
       "       [7, 8, 7, 8, 0, 6, 4, 0, 0, 5, 6],\n",
       "       [1, 3, 5, 5, 3, 4, 0, 8, 0, 8, 0],\n",
       "       [5, 9, 7, 0, 3, 4, 4, 4, 0, 8, 2],\n",
       "       [6, 6, 0, 4, 0, 1, 7, 4, 0, 0, 6],\n",
       "       [5, 9, 4, 5, 2, 9, 7, 9, 4, 2, 1],\n",
       "       [9, 8, 0, 0, 0, 5, 2, 5, 5, 8, 8],\n",
       "       [0, 6, 1, 6, 6, 4, 6, 1, 4, 8, 6],\n",
       "       [3, 5, 1, 9, 0, 3, 2, 7, 7, 9, 3],\n",
       "       [4, 0, 7, 6, 3, 0, 0, 9, 0, 7, 2]])"
      ]
     },
     "execution_count": 50,
     "metadata": {},
     "output_type": "execute_result"
    }
   ],
   "source": [
    "b[::-1]  # Reverse Rows upside-down"
   ]
  },
  {
   "cell_type": "code",
   "execution_count": 52,
   "id": "dde44722-b8e7-4aad-b729-3acb36871446",
   "metadata": {},
   "outputs": [
    {
     "data": {
      "text/plain": [
       "array([[4, 0, 7, 6, 3, 0, 0, 9, 0, 7, 2],\n",
       "       [3, 5, 1, 9, 0, 3, 2, 7, 7, 9, 3],\n",
       "       [0, 6, 1, 6, 6, 4, 6, 1, 4, 8, 6],\n",
       "       [9, 8, 0, 0, 0, 5, 2, 5, 5, 8, 8],\n",
       "       [5, 9, 4, 5, 2, 9, 7, 9, 4, 2, 1],\n",
       "       [6, 6, 0, 4, 0, 1, 7, 4, 0, 0, 6],\n",
       "       [5, 9, 7, 0, 3, 4, 4, 4, 0, 8, 2],\n",
       "       [1, 3, 5, 5, 3, 4, 0, 8, 0, 8, 0],\n",
       "       [7, 8, 7, 8, 0, 6, 4, 0, 0, 5, 6],\n",
       "       [1, 1, 6, 2, 5, 7, 9, 6, 7, 0, 9],\n",
       "       [7, 3, 6, 5, 7, 1, 3, 4, 9, 9, 1],\n",
       "       [1, 1, 1, 5, 8, 2, 0, 5, 9, 0, 2],\n",
       "       [1, 6, 9, 9, 6, 9, 1, 2, 7, 8, 5],\n",
       "       [4, 8, 5, 5, 5, 3, 2, 9, 7, 7, 1],\n",
       "       [0, 5, 5, 5, 9, 6, 8, 4, 1, 7, 1]])"
      ]
     },
     "execution_count": 52,
     "metadata": {},
     "output_type": "execute_result"
    }
   ],
   "source": [
    "b"
   ]
  },
  {
   "cell_type": "code",
   "execution_count": 56,
   "id": "8352f4ed-eeda-4ce6-bb38-f7d7a4157611",
   "metadata": {},
   "outputs": [
    {
     "data": {
      "text/plain": [
       "array([[0, 5, 5, 5, 9, 6, 8, 4, 1, 7, 1],\n",
       "       [1, 6, 9, 9, 6, 9, 1, 2, 7, 8, 5],\n",
       "       [7, 3, 6, 5, 7, 1, 3, 4, 9, 9, 1],\n",
       "       [7, 8, 7, 8, 0, 6, 4, 0, 0, 5, 6],\n",
       "       [5, 9, 7, 0, 3, 4, 4, 4, 0, 8, 2],\n",
       "       [5, 9, 4, 5, 2, 9, 7, 9, 4, 2, 1],\n",
       "       [0, 6, 1, 6, 6, 4, 6, 1, 4, 8, 6],\n",
       "       [4, 0, 7, 6, 3, 0, 0, 9, 0, 7, 2]])"
      ]
     },
     "execution_count": 56,
     "metadata": {},
     "output_type": "execute_result"
    }
   ],
   "source": [
    "b[::-2]  # Reverse rows with 2 steps"
   ]
  },
  {
   "cell_type": "code",
   "execution_count": 64,
   "id": "4171ba49-d924-4b1c-8ec2-14d285300454",
   "metadata": {},
   "outputs": [
    {
     "data": {
      "text/plain": [
       "9"
      ]
     },
     "execution_count": 64,
     "metadata": {},
     "output_type": "execute_result"
    }
   ],
   "source": [
    "b.max() #Max value in Matrix"
   ]
  },
  {
   "cell_type": "code",
   "execution_count": 68,
   "id": "3a72f56f-e79a-4a65-a907-0868862c2c80",
   "metadata": {},
   "outputs": [
    {
     "data": {
      "text/plain": [
       "0"
      ]
     },
     "execution_count": 68,
     "metadata": {},
     "output_type": "execute_result"
    }
   ],
   "source": [
    "b.min() #minimum value in matrix"
   ]
  },
  {
   "cell_type": "code",
   "execution_count": 72,
   "id": "7826176c-299f-4b0a-b059-16a225ecb4d6",
   "metadata": {},
   "outputs": [
    {
     "data": {
      "text/plain": [
       "4.375757575757576"
      ]
     },
     "execution_count": 72,
     "metadata": {},
     "output_type": "execute_result"
    }
   ],
   "source": [
    "b.mean()  # Mean of all matrix i.e Summation of all values / no. of total values"
   ]
  },
  {
   "cell_type": "markdown",
   "id": "ccf23b0a-cebc-4cc7-8d4b-c112aac195ca",
   "metadata": {},
   "source": [
    "###### "
   ]
  },
  {
   "cell_type": "code",
   "execution_count": 81,
   "id": "212635f1-5e1e-4894-931e-76f376df06f5",
   "metadata": {},
   "outputs": [
    {
     "data": {
      "text/plain": [
       "5.0"
      ]
     },
     "execution_count": 81,
     "metadata": {},
     "output_type": "execute_result"
    }
   ],
   "source": [
    "from numpy import *\n",
    "a = array([1,2,3,4,5,6,7,8,9])\n",
    "median(a)      # Middle most value in array"
   ]
  },
  {
   "cell_type": "code",
   "execution_count": 83,
   "id": "27d21a62-f6fe-4916-96a2-ba282f546dfd",
   "metadata": {},
   "outputs": [
    {
     "data": {
      "text/plain": [
       "array([0, 1, 2, 3, 4, 5])"
      ]
     },
     "execution_count": 83,
     "metadata": {},
     "output_type": "execute_result"
    }
   ],
   "source": [
    "arr"
   ]
  },
  {
   "cell_type": "markdown",
   "id": "706e55d8-af96-4065-880c-ca982eab2bce",
   "metadata": {},
   "source": [
    "###### "
   ]
  },
  {
   "cell_type": "markdown",
   "id": "7d2a299e-1493-4684-85c8-16b40755cd51",
   "metadata": {},
   "source": [
    "## .reshape (rows, columns)\n",
    "Returns an array containing the same data with a new shape."
   ]
  },
  {
   "cell_type": "code",
   "execution_count": 163,
   "id": "5feb6551-8132-4c5e-9a94-fb572d44576d",
   "metadata": {},
   "outputs": [
    {
     "data": {
      "text/plain": [
       "array([0, 1, 2, 3, 4, 5])"
      ]
     },
     "execution_count": 163,
     "metadata": {},
     "output_type": "execute_result"
    }
   ],
   "source": [
    "arr"
   ]
  },
  {
   "cell_type": "code",
   "execution_count": 85,
   "id": "26f59ba6-bcf6-4ba8-829a-ea5bf7f18237",
   "metadata": {},
   "outputs": [
    {
     "data": {
      "text/plain": [
       "array([[0, 1, 2],\n",
       "       [3, 4, 5]])"
      ]
     },
     "execution_count": 85,
     "metadata": {},
     "output_type": "execute_result"
    }
   ],
   "source": [
    "arr.reshape(2,3)"
   ]
  },
  {
   "cell_type": "code",
   "execution_count": 93,
   "id": "fea509e1-54e2-4255-b29d-b656dc6fd231",
   "metadata": {},
   "outputs": [
    {
     "data": {
      "text/plain": [
       "array([[0],\n",
       "       [1],\n",
       "       [2],\n",
       "       [3],\n",
       "       [4],\n",
       "       [5]])"
      ]
     },
     "execution_count": 93,
     "metadata": {},
     "output_type": "execute_result"
    }
   ],
   "source": [
    "arr.reshape(6,1)"
   ]
  },
  {
   "cell_type": "markdown",
   "id": "b6e3794b-0a17-410d-8494-7e28e40ccb11",
   "metadata": {},
   "source": [
    "### F Is Fortran contiguous layout. Mathematically speaking, column major."
   ]
  },
  {
   "cell_type": "code",
   "execution_count": 161,
   "id": "44d33799-7eb1-4e24-b18b-490562d44674",
   "metadata": {},
   "outputs": [
    {
     "data": {
      "text/plain": [
       "array([[0, 3],\n",
       "       [1, 4],\n",
       "       [2, 5]])"
      ]
     },
     "execution_count": 161,
     "metadata": {},
     "output_type": "execute_result"
    }
   ],
   "source": [
    "arr.reshape(3,2,order='F')  "
   ]
  },
  {
   "cell_type": "markdown",
   "id": "d84de348-8430-464c-938e-210141bde68b",
   "metadata": {},
   "source": [
    "###### "
   ]
  },
  {
   "cell_type": "markdown",
   "id": "20d47e29-4dca-4b76-a9c9-9edc99604676",
   "metadata": {},
   "source": [
    "### C Is Contiguous layout. Mathematically speaking, row major."
   ]
  },
  {
   "cell_type": "code",
   "execution_count": 171,
   "id": "64689de2-f2f4-47d9-a518-15e4a2ec6a49",
   "metadata": {},
   "outputs": [
    {
     "data": {
      "text/plain": [
       "array([[0, 1],\n",
       "       [2, 3],\n",
       "       [4, 5]])"
      ]
     },
     "execution_count": 171,
     "metadata": {},
     "output_type": "execute_result"
    }
   ],
   "source": [
    "arr.reshape(3,2,order='C')"
   ]
  },
  {
   "cell_type": "markdown",
   "id": "623695f8-bdd0-4246-994e-e1656b58ddfe",
   "metadata": {},
   "source": [
    "###### "
   ]
  },
  {
   "cell_type": "markdown",
   "id": "7b411cca-5c9f-4da3-9697-ee04998334e3",
   "metadata": {},
   "source": [
    "### A Is any order. Generally don't use this.."
   ]
  },
  {
   "cell_type": "code",
   "execution_count": 177,
   "id": "14a05e47-cdd9-4d53-8bf7-7aa6229c474a",
   "metadata": {},
   "outputs": [
    {
     "data": {
      "text/plain": [
       "array([[0, 1],\n",
       "       [2, 3],\n",
       "       [4, 5]])"
      ]
     },
     "execution_count": 177,
     "metadata": {},
     "output_type": "execute_result"
    }
   ],
   "source": [
    "arr.reshape(3,2,order='A')"
   ]
  },
  {
   "cell_type": "markdown",
   "id": "6a37b574-3da5-4d21-9eb9-3f9815db1250",
   "metadata": {},
   "source": [
    "###### "
   ]
  },
  {
   "cell_type": "markdown",
   "id": "2e508f7f-481c-4da6-9b3e-804765333b61",
   "metadata": {},
   "source": [
    "### K Is keep order. Generally don't use this."
   ]
  },
  {
   "cell_type": "code",
   "execution_count": 187,
   "id": "b2283bf1-3e43-47af-a0c3-0f31682c7af1",
   "metadata": {},
   "outputs": [
    {
     "ename": "ValueError",
     "evalue": "order 'K' is not permitted for reshaping",
     "output_type": "error",
     "traceback": [
      "\u001b[1;31m---------------------------------------------------------------------------\u001b[0m",
      "\u001b[1;31mValueError\u001b[0m                                Traceback (most recent call last)",
      "Cell \u001b[1;32mIn[187], line 1\u001b[0m\n\u001b[1;32m----> 1\u001b[0m arr\u001b[38;5;241m.\u001b[39mreshape(\u001b[38;5;241m3\u001b[39m,\u001b[38;5;241m2\u001b[39m,order\u001b[38;5;241m=\u001b[39m\u001b[38;5;124m'\u001b[39m\u001b[38;5;124mK\u001b[39m\u001b[38;5;124m'\u001b[39m)\n",
      "\u001b[1;31mValueError\u001b[0m: order 'K' is not permitted for reshaping"
     ]
    }
   ],
   "source": [
    "arr.reshape(3,2,order='K')"
   ]
  },
  {
   "cell_type": "markdown",
   "id": "1ecf97fa-99e6-4aed-b718-0a63db7e307c",
   "metadata": {},
   "source": [
    "###### "
   ]
  },
  {
   "cell_type": "markdown",
   "id": "24a8ed57-d47e-41a1-8a9a-b249b8084f00",
   "metadata": {},
   "source": [
    "## Indexing"
   ]
  },
  {
   "cell_type": "code",
   "execution_count": 195,
   "id": "8b05b5bd-ada2-496c-b7a3-4192d5b61e4b",
   "metadata": {},
   "outputs": [
    {
     "data": {
      "text/plain": [
       "array([[ 0,  1,  2,  3,  4,  5,  6,  7,  8,  9],\n",
       "       [10, 11, 12, 13, 14, 15, 16, 17, 18, 19],\n",
       "       [20, 21, 22, 23, 24, 25, 26, 27, 28, 29],\n",
       "       [30, 31, 32, 33, 34, 35, 36, 37, 38, 39],\n",
       "       [40, 41, 42, 43, 44, 45, 46, 47, 48, 49],\n",
       "       [50, 51, 52, 53, 54, 55, 56, 57, 58, 59],\n",
       "       [60, 61, 62, 63, 64, 65, 66, 67, 68, 69],\n",
       "       [70, 71, 72, 73, 74, 75, 76, 77, 78, 79],\n",
       "       [80, 81, 82, 83, 84, 85, 86, 87, 88, 89],\n",
       "       [90, 91, 92, 93, 94, 95, 96, 97, 98, 99]])"
      ]
     },
     "execution_count": 195,
     "metadata": {},
     "output_type": "execute_result"
    }
   ],
   "source": [
    "mat = np.arange(0,100).reshape(10,10)\n",
    "mat"
   ]
  },
  {
   "cell_type": "code",
   "execution_count": 249,
   "id": "b10b260c-77d1-4290-9029-a0d102ffd134",
   "metadata": {},
   "outputs": [
    {
     "data": {
      "text/plain": [
       "array([[ 0,  1,  2,  3,  4,  5,  6,  7,  8,  9],\n",
       "       [10, 11, 12, 13, 14, 15, 16, 17, 18, 19],\n",
       "       [20, 21, 22, 23, 24, 25, 26, 27, 28, 29],\n",
       "       [30, 31, 32, 33, 34, 35, 36, 37, 38, 39],\n",
       "       [40, 41, 42, 43, 44, 45, 46, 47, 48, 49],\n",
       "       [50, 51, 52, 53, 54, 55, 56, 57, 58, 59]])"
      ]
     },
     "execution_count": 249,
     "metadata": {},
     "output_type": "execute_result"
    }
   ],
   "source": [
    "mat[:6]"
   ]
  },
  {
   "cell_type": "code",
   "execution_count": 251,
   "id": "72f30d42-3706-45e7-872c-8b3b5115f460",
   "metadata": {},
   "outputs": [
    {
     "data": {
      "text/plain": [
       "array([[60, 61, 62, 63, 64, 65, 66, 67, 68, 69],\n",
       "       [70, 71, 72, 73, 74, 75, 76, 77, 78, 79],\n",
       "       [80, 81, 82, 83, 84, 85, 86, 87, 88, 89],\n",
       "       [90, 91, 92, 93, 94, 95, 96, 97, 98, 99]])"
      ]
     },
     "execution_count": 251,
     "metadata": {},
     "output_type": "execute_result"
    }
   ],
   "source": [
    "mat[6:]"
   ]
  },
  {
   "cell_type": "code",
   "execution_count": 255,
   "id": "fe0183de-c2e2-4188-9f50-bdd1e61c03ab",
   "metadata": {},
   "outputs": [
    {
     "data": {
      "text/plain": [
       "array([[30, 31, 32, 33, 34, 35, 36, 37, 38, 39],\n",
       "       [40, 41, 42, 43, 44, 45, 46, 47, 48, 49],\n",
       "       [50, 51, 52, 53, 54, 55, 56, 57, 58, 59],\n",
       "       [60, 61, 62, 63, 64, 65, 66, 67, 68, 69]])"
      ]
     },
     "execution_count": 255,
     "metadata": {},
     "output_type": "execute_result"
    }
   ],
   "source": [
    "mat[3:-3]"
   ]
  },
  {
   "cell_type": "code",
   "execution_count": 201,
   "id": "607fd400-ae4e-4aae-989e-74c6c515901c",
   "metadata": {},
   "outputs": [
    {
     "data": {
      "text/plain": [
       "59"
      ]
     },
     "execution_count": 201,
     "metadata": {},
     "output_type": "execute_result"
    }
   ],
   "source": [
    "mat[5,9] #values at 5th row & 9th column"
   ]
  },
  {
   "cell_type": "code",
   "execution_count": 203,
   "id": "81937ea5-d7dd-4e10-b934-b658158cc184",
   "metadata": {},
   "outputs": [
    {
     "data": {
      "text/plain": [
       "array([50, 51, 52, 53, 54, 55, 56, 57, 58, 59])"
      ]
     },
     "execution_count": 203,
     "metadata": {},
     "output_type": "execute_result"
    }
   ],
   "source": [
    "mat[5]"
   ]
  },
  {
   "cell_type": "code",
   "execution_count": 215,
   "id": "e29c1aa4-3cc8-457d-b264-8b0928ffc394",
   "metadata": {},
   "outputs": [],
   "source": [
    "row = 2\n",
    "col = 5"
   ]
  },
  {
   "cell_type": "code",
   "execution_count": 219,
   "id": "40f018b5-6080-4c84-9afb-7d712afa2b1c",
   "metadata": {},
   "outputs": [
    {
     "data": {
      "text/plain": [
       "25"
      ]
     },
     "execution_count": 219,
     "metadata": {},
     "output_type": "execute_result"
    }
   ],
   "source": [
    "mat[row,col]"
   ]
  },
  {
   "cell_type": "markdown",
   "id": "6c305b6a-1f1e-4752-b3ca-3109a8309a01",
   "metadata": {},
   "source": [
    "#### matrix  [: , column ] --> to see column"
   ]
  },
  {
   "cell_type": "code",
   "execution_count": 213,
   "id": "44eb04ab-f48d-4e4d-887b-bc4347339756",
   "metadata": {},
   "outputs": [
    {
     "data": {
      "text/plain": [
       "array([ 9, 19, 29, 39, 49, 59, 69, 79, 89, 99])"
      ]
     },
     "execution_count": 213,
     "metadata": {},
     "output_type": "execute_result"
    }
   ],
   "source": [
    "mat[:,9]"
   ]
  },
  {
   "cell_type": "code",
   "execution_count": 211,
   "id": "e205eb3f-1aa4-4f0d-98d3-3ba9223cc196",
   "metadata": {},
   "outputs": [
    {
     "data": {
      "text/plain": [
       "array([[ 9],\n",
       "       [19],\n",
       "       [29],\n",
       "       [39],\n",
       "       [49],\n",
       "       [59],\n",
       "       [69],\n",
       "       [79],\n",
       "       [89],\n",
       "       [99]])"
      ]
     },
     "execution_count": 211,
     "metadata": {},
     "output_type": "execute_result"
    }
   ],
   "source": [
    "mat[:,9].reshape(10,1) # 9th columns"
   ]
  },
  {
   "cell_type": "markdown",
   "id": "546596ec-e94f-4855-b138-fea114f71d02",
   "metadata": {},
   "source": [
    "### mat[row,:]"
   ]
  },
  {
   "cell_type": "code",
   "execution_count": 221,
   "id": "08a72516-9b13-464f-8d64-2cdfdc330dcf",
   "metadata": {},
   "outputs": [
    {
     "data": {
      "text/plain": [
       "array([20, 21, 22, 23, 24, 25, 26, 27, 28, 29])"
      ]
     },
     "execution_count": 221,
     "metadata": {},
     "output_type": "execute_result"
    }
   ],
   "source": [
    "mat[row,:]"
   ]
  },
  {
   "cell_type": "markdown",
   "id": "3e86bcd5-261d-48ca-87fb-6020dd8fc997",
   "metadata": {},
   "source": [
    "### mat[:,column]"
   ]
  },
  {
   "cell_type": "code",
   "execution_count": 223,
   "id": "88d3e89c-5373-4946-b51e-8f0c6459037d",
   "metadata": {},
   "outputs": [
    {
     "data": {
      "text/plain": [
       "array([ 5, 15, 25, 35, 45, 55, 65, 75, 85, 95])"
      ]
     },
     "execution_count": 223,
     "metadata": {},
     "output_type": "execute_result"
    }
   ],
   "source": [
    "mat[:,col]"
   ]
  },
  {
   "cell_type": "code",
   "execution_count": 225,
   "id": "415b3f3f-6908-426e-ba75-f86979212d85",
   "metadata": {},
   "outputs": [
    {
     "data": {
      "text/plain": [
       "array([90, 91, 92, 93, 94, 95, 96, 97, 98, 99])"
      ]
     },
     "execution_count": 225,
     "metadata": {},
     "output_type": "execute_result"
    }
   ],
   "source": [
    "mat[-1]"
   ]
  },
  {
   "cell_type": "code",
   "execution_count": 229,
   "id": "30ddc1f1-799d-4655-9786-fb84e07733d2",
   "metadata": {},
   "outputs": [
    {
     "data": {
      "text/plain": [
       "array([[ 0,  1,  2,  3,  4,  5,  6,  7,  8,  9],\n",
       "       [10, 11, 12, 13, 14, 15, 16, 17, 18, 19],\n",
       "       [20, 21, 22, 23, 24, 25, 26, 27, 28, 29],\n",
       "       [30, 31, 32, 33, 34, 35, 36, 37, 38, 39],\n",
       "       [40, 41, 42, 43, 44, 45, 46, 47, 48, 49],\n",
       "       [50, 51, 52, 53, 54, 55, 56, 57, 58, 59],\n",
       "       [60, 61, 62, 63, 64, 65, 66, 67, 68, 69],\n",
       "       [70, 71, 72, 73, 74, 75, 76, 77, 78, 79],\n",
       "       [80, 81, 82, 83, 84, 85, 86, 87, 88, 89],\n",
       "       [90, 91, 92, 93, 94, 95, 96, 97, 98, 99]])"
      ]
     },
     "execution_count": 229,
     "metadata": {},
     "output_type": "execute_result"
    }
   ],
   "source": [
    "mat[0:10]"
   ]
  },
  {
   "cell_type": "code",
   "execution_count": 237,
   "id": "6c4b418a-fc7b-4366-81df-6ae788025c8a",
   "metadata": {},
   "outputs": [
    {
     "data": {
      "text/plain": [
       "array([[ 0,  1,  2,  3,  4,  5,  6,  7,  8,  9],\n",
       "       [30, 31, 32, 33, 34, 35, 36, 37, 38, 39],\n",
       "       [60, 61, 62, 63, 64, 65, 66, 67, 68, 69],\n",
       "       [90, 91, 92, 93, 94, 95, 96, 97, 98, 99]])"
      ]
     },
     "execution_count": 237,
     "metadata": {},
     "output_type": "execute_result"
    }
   ],
   "source": [
    "mat[0:10:3]   # Matrix of 0 to 10th row with step of 3"
   ]
  },
  {
   "cell_type": "markdown",
   "id": "bc31500f-6e61-40f0-b970-f2d3f20accd1",
   "metadata": {},
   "source": [
    "###### "
   ]
  },
  {
   "cell_type": "code",
   "execution_count": 240,
   "id": "fa6b79d1-cb1f-4861-a23f-bf47ab50895c",
   "metadata": {},
   "outputs": [
    {
     "data": {
      "text/plain": [
       "array([[ 0,  1,  2,  3,  4,  5,  6,  7,  8,  9],\n",
       "       [10, 11, 12, 13, 14, 15, 16, 17, 18, 19],\n",
       "       [20, 21, 22, 23, 24, 25, 26, 27, 28, 29],\n",
       "       [30, 31, 32, 33, 34, 35, 36, 37, 38, 39],\n",
       "       [40, 41, 42, 43, 44, 45, 46, 47, 48, 49],\n",
       "       [50, 51, 52, 53, 54, 55, 56, 57, 58, 59],\n",
       "       [60, 61, 62, 63, 64, 65, 66, 67, 68, 69],\n",
       "       [70, 71, 72, 73, 74, 75, 76, 77, 78, 79],\n",
       "       [80, 81, 82, 83, 84, 85, 86, 87, 88, 89],\n",
       "       [90, 91, 92, 93, 94, 95, 96, 97, 98, 99]])"
      ]
     },
     "execution_count": 240,
     "metadata": {},
     "output_type": "execute_result"
    }
   ],
   "source": [
    "mat"
   ]
  },
  {
   "cell_type": "code",
   "execution_count": 244,
   "id": "e63d63d4-9759-40d6-954f-703620ee243f",
   "metadata": {},
   "outputs": [
    {
     "data": {
      "text/plain": [
       "array([[22, 23],\n",
       "       [32, 33],\n",
       "       [42, 43],\n",
       "       [52, 53]])"
      ]
     },
     "execution_count": 244,
     "metadata": {},
     "output_type": "execute_result"
    }
   ],
   "source": [
    "mat[2:6,2:4]  # Matrix[ row slicing, column slicing]"
   ]
  },
  {
   "cell_type": "code",
   "execution_count": 246,
   "id": "634395b8-87c1-42bd-aaba-55f2fa0b6a5d",
   "metadata": {},
   "outputs": [
    {
     "data": {
      "text/plain": [
       "array([[22]])"
      ]
     },
     "execution_count": 246,
     "metadata": {},
     "output_type": "execute_result"
    }
   ],
   "source": [
    "mat[2:3,2:3]"
   ]
  },
  {
   "cell_type": "markdown",
   "id": "717950b0-640e-4043-ae56-c907fb21b524",
   "metadata": {},
   "source": [
    "###### "
   ]
  },
  {
   "cell_type": "markdown",
   "id": "4c72af38-1f05-4ab7-a2d0-95ccfa731160",
   "metadata": {},
   "source": [
    "## Masking"
   ]
  },
  {
   "cell_type": "code",
   "execution_count": 258,
   "id": "252939e9-cc50-4b8d-a960-bbeca8d7a08e",
   "metadata": {},
   "outputs": [
    {
     "data": {
      "text/plain": [
       "array([[ 0,  1,  2,  3,  4,  5,  6,  7,  8,  9],\n",
       "       [10, 11, 12, 13, 14, 15, 16, 17, 18, 19],\n",
       "       [20, 21, 22, 23, 24, 25, 26, 27, 28, 29],\n",
       "       [30, 31, 32, 33, 34, 35, 36, 37, 38, 39],\n",
       "       [40, 41, 42, 43, 44, 45, 46, 47, 48, 49],\n",
       "       [50, 51, 52, 53, 54, 55, 56, 57, 58, 59],\n",
       "       [60, 61, 62, 63, 64, 65, 66, 67, 68, 69],\n",
       "       [70, 71, 72, 73, 74, 75, 76, 77, 78, 79],\n",
       "       [80, 81, 82, 83, 84, 85, 86, 87, 88, 89],\n",
       "       [90, 91, 92, 93, 94, 95, 96, 97, 98, 99]])"
      ]
     },
     "execution_count": 258,
     "metadata": {},
     "output_type": "execute_result"
    }
   ],
   "source": [
    "mat"
   ]
  },
  {
   "cell_type": "code",
   "execution_count": 261,
   "id": "2db94088-0d91-4b05-98c4-80efb5657c91",
   "metadata": {},
   "outputs": [
    {
     "data": {
      "text/plain": [
       "2569200284080"
      ]
     },
     "execution_count": 261,
     "metadata": {},
     "output_type": "execute_result"
    }
   ],
   "source": [
    "id(mat)"
   ]
  },
  {
   "cell_type": "code",
   "execution_count": 263,
   "id": "27976e75-509e-45a6-aada-6bfa122b3be9",
   "metadata": {},
   "outputs": [
    {
     "data": {
      "text/plain": [
       "array([[ True,  True,  True,  True,  True,  True,  True,  True,  True,\n",
       "         True],\n",
       "       [ True,  True,  True,  True,  True,  True,  True,  True,  True,\n",
       "         True],\n",
       "       [ True,  True,  True,  True,  True,  True,  True,  True,  True,\n",
       "         True],\n",
       "       [ True,  True,  True,  True,  True,  True,  True,  True,  True,\n",
       "         True],\n",
       "       [ True,  True,  True,  True,  True,  True,  True,  True,  True,\n",
       "         True],\n",
       "       [False, False, False, False, False, False, False, False, False,\n",
       "        False],\n",
       "       [False, False, False, False, False, False, False, False, False,\n",
       "        False],\n",
       "       [False, False, False, False, False, False, False, False, False,\n",
       "        False],\n",
       "       [False, False, False, False, False, False, False, False, False,\n",
       "        False],\n",
       "       [False, False, False, False, False, False, False, False, False,\n",
       "        False]])"
      ]
     },
     "execution_count": 263,
     "metadata": {},
     "output_type": "execute_result"
    }
   ],
   "source": [
    "mat<50"
   ]
  },
  {
   "cell_type": "code",
   "execution_count": 265,
   "id": "58c08568-df78-4f49-ba14-a32d3a347928",
   "metadata": {},
   "outputs": [
    {
     "data": {
      "text/plain": [
       "array([ 0,  1,  2,  3,  4,  5,  6,  7,  8,  9, 10, 11, 12, 13, 14, 15, 16,\n",
       "       17, 18, 19, 20, 21, 22, 23, 24, 25, 26, 27, 28, 29, 30, 31, 32, 33,\n",
       "       34, 35, 36, 37, 38, 39, 40, 41, 42, 43, 44, 45, 46, 47, 48, 49])"
      ]
     },
     "execution_count": 265,
     "metadata": {},
     "output_type": "execute_result"
    }
   ],
   "source": [
    "mat[mat<50]"
   ]
  },
  {
   "cell_type": "code",
   "execution_count": 267,
   "id": "296d2056-821a-4486-b5a4-88f64307845d",
   "metadata": {},
   "outputs": [
    {
     "data": {
      "text/plain": [
       "array([50])"
      ]
     },
     "execution_count": 267,
     "metadata": {},
     "output_type": "execute_result"
    }
   ],
   "source": [
    "mat[mat==50]"
   ]
  },
  {
   "cell_type": "code",
   "execution_count": 269,
   "id": "db63fe0d-8ccb-4739-ad09-94811dc8c7c0",
   "metadata": {},
   "outputs": [
    {
     "data": {
      "text/plain": [
       "array([51, 52, 53, 54, 55, 56, 57, 58, 59, 60, 61, 62, 63, 64, 65, 66, 67,\n",
       "       68, 69, 70, 71, 72, 73, 74, 75, 76, 77, 78, 79, 80, 81, 82, 83, 84,\n",
       "       85, 86, 87, 88, 89, 90, 91, 92, 93, 94, 95, 96, 97, 98, 99])"
      ]
     },
     "execution_count": 269,
     "metadata": {},
     "output_type": "execute_result"
    }
   ],
   "source": [
    "mat[mat>50]"
   ]
  },
  {
   "cell_type": "markdown",
   "id": "f55984ed-1bd9-470f-b869-f6ab31abaddb",
   "metadata": {},
   "source": [
    "###### "
   ]
  },
  {
   "cell_type": "code",
   "execution_count": 280,
   "id": "c8977451-1e90-4a5c-994d-3ab3ac77ee1d",
   "metadata": {},
   "outputs": [
    {
     "name": "stdout",
     "output_type": "stream",
     "text": [
      "[ 0  1  2  3  4  5  6  7  8  9 10 11 12 13 14 15 16 17 18 19 81 82 83 84\n",
      " 85 86 87 88 89 90 91 92 93 94 95 96 97 98 99]\n"
     ]
    }
   ],
   "source": [
    "a = mat[mat<20]\n",
    "b = mat[mat>80]\n",
    "c =  np.concatenate((a, b))  # .concatenate() :Join a sequence of arrays along an existing axis.\n",
    "print(c)"
   ]
  }
 ],
 "metadata": {
  "kernelspec": {
   "display_name": "Python 3 (ipykernel)",
   "language": "python",
   "name": "python3"
  },
  "language_info": {
   "codemirror_mode": {
    "name": "ipython",
    "version": 3
   },
   "file_extension": ".py",
   "mimetype": "text/x-python",
   "name": "python",
   "nbconvert_exporter": "python",
   "pygments_lexer": "ipython3",
   "version": "3.11.7"
  },
  "widgets": {
   "application/vnd.jupyter.widget-state+json": {
    "state": {},
    "version_major": 2,
    "version_minor": 0
   }
  }
 },
 "nbformat": 4,
 "nbformat_minor": 5
}
